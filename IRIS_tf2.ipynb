{
  "nbformat": 4,
  "nbformat_minor": 0,
  "metadata": {
    "colab": {
      "name": "IRIS_tf2.ipynb",
      "version": "0.3.2",
      "provenance": [],
      "collapsed_sections": [],
      "include_colab_link": true
    },
    "kernelspec": {
      "name": "python3",
      "display_name": "Python 3"
    },
    "accelerator": "GPU"
  },
  "cells": [
    {
      "cell_type": "markdown",
      "metadata": {
        "id": "view-in-github",
        "colab_type": "text"
      },
      "source": [
        "<a href=\"https://colab.research.google.com/github/sanikamal/tensorflow-AtoZ/blob/master/IRIS_tf2.ipynb\" target=\"_parent\"><img src=\"https://colab.research.google.com/assets/colab-badge.svg\" alt=\"Open In Colab\"/></a>"
      ]
    },
    {
      "cell_type": "markdown",
      "metadata": {
        "id": "dq28E-bDPJC4",
        "colab_type": "text"
      },
      "source": [
        "# Initialization\n"
      ]
    },
    {
      "cell_type": "code",
      "metadata": {
        "id": "BLRNTdOji5iy",
        "colab_type": "code",
        "colab": {
          "base_uri": "https://localhost:8080/",
          "height": 367
        },
        "outputId": "29964d7b-d117-4ea9-8762-06f4b7f6c99e"
      },
      "source": [
        "!pip install tensorflow==2.0.0-alpha0"
      ],
      "execution_count": 1,
      "outputs": [
        {
          "output_type": "stream",
          "text": [
            "Requirement already satisfied: tensorflow==2.0.0-alpha0 in /usr/local/lib/python3.6/dist-packages (2.0.0a0)\n",
            "Requirement already satisfied: termcolor>=1.1.0 in /usr/local/lib/python3.6/dist-packages (from tensorflow==2.0.0-alpha0) (1.1.0)\n",
            "Requirement already satisfied: numpy<2.0,>=1.14.5 in /usr/local/lib/python3.6/dist-packages (from tensorflow==2.0.0-alpha0) (1.16.3)\n",
            "Requirement already satisfied: absl-py>=0.7.0 in /usr/local/lib/python3.6/dist-packages (from tensorflow==2.0.0-alpha0) (0.7.1)\n",
            "Requirement already satisfied: astor>=0.6.0 in /usr/local/lib/python3.6/dist-packages (from tensorflow==2.0.0-alpha0) (0.7.1)\n",
            "Requirement already satisfied: keras-preprocessing>=1.0.5 in /usr/local/lib/python3.6/dist-packages (from tensorflow==2.0.0-alpha0) (1.0.9)\n",
            "Requirement already satisfied: gast>=0.2.0 in /usr/local/lib/python3.6/dist-packages (from tensorflow==2.0.0-alpha0) (0.2.2)\n",
            "Requirement already satisfied: tb-nightly<1.14.0a20190302,>=1.14.0a20190301 in /usr/local/lib/python3.6/dist-packages (from tensorflow==2.0.0-alpha0) (1.14.0a20190301)\n",
            "Requirement already satisfied: tf-estimator-nightly<1.14.0.dev2019030116,>=1.14.0.dev2019030115 in /usr/local/lib/python3.6/dist-packages (from tensorflow==2.0.0-alpha0) (1.14.0.dev2019030115)\n",
            "Requirement already satisfied: wheel>=0.26 in /usr/local/lib/python3.6/dist-packages (from tensorflow==2.0.0-alpha0) (0.33.4)\n",
            "Requirement already satisfied: six>=1.10.0 in /usr/local/lib/python3.6/dist-packages (from tensorflow==2.0.0-alpha0) (1.12.0)\n",
            "Requirement already satisfied: protobuf>=3.6.1 in /usr/local/lib/python3.6/dist-packages (from tensorflow==2.0.0-alpha0) (3.7.1)\n",
            "Requirement already satisfied: google-pasta>=0.1.2 in /usr/local/lib/python3.6/dist-packages (from tensorflow==2.0.0-alpha0) (0.1.6)\n",
            "Requirement already satisfied: grpcio>=1.8.6 in /usr/local/lib/python3.6/dist-packages (from tensorflow==2.0.0-alpha0) (1.15.0)\n",
            "Requirement already satisfied: keras-applications>=1.0.6 in /usr/local/lib/python3.6/dist-packages (from tensorflow==2.0.0-alpha0) (1.0.7)\n",
            "Requirement already satisfied: markdown>=2.6.8 in /usr/local/lib/python3.6/dist-packages (from tb-nightly<1.14.0a20190302,>=1.14.0a20190301->tensorflow==2.0.0-alpha0) (3.1)\n",
            "Requirement already satisfied: werkzeug>=0.11.15 in /usr/local/lib/python3.6/dist-packages (from tb-nightly<1.14.0a20190302,>=1.14.0a20190301->tensorflow==2.0.0-alpha0) (0.15.2)\n",
            "Requirement already satisfied: setuptools in /usr/local/lib/python3.6/dist-packages (from protobuf>=3.6.1->tensorflow==2.0.0-alpha0) (41.0.1)\n",
            "Requirement already satisfied: h5py in /usr/local/lib/python3.6/dist-packages (from keras-applications>=1.0.6->tensorflow==2.0.0-alpha0) (2.8.0)\n"
          ],
          "name": "stdout"
        }
      ]
    },
    {
      "cell_type": "code",
      "metadata": {
        "id": "WxGj9kKlNeUw",
        "colab_type": "code",
        "colab": {}
      },
      "source": [
        "import os\n",
        "import matplotlib.pyplot as plt\n",
        "\n",
        "import tensorflow as tf"
      ],
      "execution_count": 0,
      "outputs": []
    },
    {
      "cell_type": "code",
      "metadata": {
        "id": "3eyEFItZQN-T",
        "colab_type": "code",
        "outputId": "61d025f5-ed44-4974-f693-46462e6bafdf",
        "colab": {
          "base_uri": "https://localhost:8080/",
          "height": 34
        }
      },
      "source": [
        "print(\"TensorFlow version: {}\".format(tf.__version__))"
      ],
      "execution_count": 3,
      "outputs": [
        {
          "output_type": "stream",
          "text": [
            "TensorFlow version: 2.0.0-alpha0\n"
          ],
          "name": "stdout"
        }
      ]
    },
    {
      "cell_type": "code",
      "metadata": {
        "id": "8rZfmJPhSD7-",
        "colab_type": "code",
        "colab": {}
      },
      "source": [
        "column_names = ['sepal_length', 'sepal_width', 'petal_length', 'petal_width', 'species']\n",
        "\n",
        "feature_names = column_names[:-1]\n",
        "label_name = column_names[-1]\n",
        "\n",
        "class_names = ['Iris setosa', 'Iris versicolor', 'Iris virginica']"
      ],
      "execution_count": 0,
      "outputs": []
    },
    {
      "cell_type": "markdown",
      "metadata": {
        "id": "uCPT9U5BhYk4",
        "colab_type": "text"
      },
      "source": [
        "# Train Data"
      ]
    },
    {
      "cell_type": "code",
      "metadata": {
        "id": "KfY0My9tQtE0",
        "colab_type": "code",
        "colab": {
          "base_uri": "https://localhost:8080/",
          "height": 52
        },
        "outputId": "475474d6-16c3-4970-fc1e-9d9dd462b8e9"
      },
      "source": [
        "train_dataset_url = \"https://storage.googleapis.com/download.tensorflow.org/data/iris_training.csv\"\n",
        "\n",
        "train_dataset_fp = tf.keras.utils.get_file(os.path.basename(train_dataset_url), origin = train_dataset_url)"
      ],
      "execution_count": 5,
      "outputs": [
        {
          "output_type": "stream",
          "text": [
            "Downloading data from https://storage.googleapis.com/download.tensorflow.org/data/iris_training.csv\n",
            "8192/2194 [================================================================================================================] - 0s 0us/step\n"
          ],
          "name": "stdout"
        }
      ]
    },
    {
      "cell_type": "code",
      "metadata": {
        "id": "1EYskwQ_VklF",
        "colab_type": "code",
        "colab": {}
      },
      "source": [
        "train_dataset = tf.data.experimental.make_csv_dataset(train_dataset_fp, 120, column_names=column_names, label_name=label_name, num_epochs=1)"
      ],
      "execution_count": 0,
      "outputs": []
    },
    {
      "cell_type": "code",
      "metadata": {
        "id": "_3ub0xugWDzX",
        "colab_type": "code",
        "colab": {}
      },
      "source": [
        "train_features, train_labels = next(iter(train_dataset))\n",
        "train_features = tf.stack(list(train_features.values()), axis=1)"
      ],
      "execution_count": 0,
      "outputs": []
    },
    {
      "cell_type": "markdown",
      "metadata": {
        "id": "sMQFNq7FheX2",
        "colab_type": "text"
      },
      "source": [
        "# Test Data"
      ]
    },
    {
      "cell_type": "code",
      "metadata": {
        "id": "STTmsH5OhiAv",
        "colab_type": "code",
        "colab": {
          "base_uri": "https://localhost:8080/",
          "height": 72
        },
        "outputId": "7fc4a9d0-8228-489e-d149-33516b77550c"
      },
      "source": [
        "test_dataset_url = \"https://storage.googleapis.com/download.tensorflow.org/data/iris_test.csv\"\n",
        "\n",
        "test_data_fp = tf.keras.utils.get_file(os.path.basename(test_dataset_url), origin=test_dataset_url)"
      ],
      "execution_count": 8,
      "outputs": [
        {
          "output_type": "stream",
          "text": [
            "Downloading data from https://storage.googleapis.com/download.tensorflow.org/data/iris_test.csv\n",
            "8192/573 [============================================================================================================================================================================================================================================================================================================================================================================================================================================] - 0s 0us/step\n"
          ],
          "name": "stdout"
        }
      ]
    },
    {
      "cell_type": "code",
      "metadata": {
        "id": "etNbAm0KhiJ9",
        "colab_type": "code",
        "colab": {}
      },
      "source": [
        "test_dataset = tf.data.experimental.make_csv_dataset(test_data_fp, 30, column_names=column_names, label_name=label_name, num_epochs=1)"
      ],
      "execution_count": 0,
      "outputs": []
    },
    {
      "cell_type": "code",
      "metadata": {
        "id": "APFmZlpkhiMT",
        "colab_type": "code",
        "colab": {}
      },
      "source": [
        "test_features, test_labels = next(iter(test_dataset))\n",
        "test_features = tf.stack(list(test_features.values()), axis=1)"
      ],
      "execution_count": 0,
      "outputs": []
    },
    {
      "cell_type": "code",
      "metadata": {
        "id": "pFHM5RSBF1u4",
        "colab_type": "code",
        "colab": {}
      },
      "source": [
        "tra = []\n",
        "trl = []\n",
        "tsa = []\n",
        "tsl = []"
      ],
      "execution_count": 0,
      "outputs": []
    },
    {
      "cell_type": "markdown",
      "metadata": {
        "id": "FG26Ix9UPBDG",
        "colab_type": "text"
      },
      "source": [
        "# Model"
      ]
    },
    {
      "cell_type": "code",
      "metadata": {
        "id": "3chVeEDwX3T8",
        "colab_type": "code",
        "colab": {}
      },
      "source": [
        "class IRISModel(tf.keras.Model):\n",
        "    def __init__(self):\n",
        "        super(IRISModel, self).__init__()\n",
        "        self.dense1 = tf.keras.layers.Dense(10, activation='relu', input_shape=(4,))\n",
        "        self.dense2 = tf.keras.layers.Dense(10, activation='relu')\n",
        "        self.dense3 = tf.keras.layers.Dense(3, activation='softmax')\n",
        "        self.loss_obj = tf.keras.losses.SparseCategoricalCrossentropy()\n",
        "        self.optimizer = tf.keras.optimizers.Adam()\n",
        "        self.train_loss = tf.metrics.Mean()\n",
        "        self.train_accuracy = tf.metrics.SparseCategoricalAccuracy()\n",
        "        self.test_loss = tf.metrics.Mean()\n",
        "        self.test_accuracy = tf.metrics.SparseCategoricalAccuracy()\n",
        "        \n",
        "    def call(self, x):\n",
        "        x = self.dense1(x)\n",
        "        x = self.dense2(x)\n",
        "        return self.dense3(x)\n",
        "    \n",
        "    @tf.function\n",
        "    def train_step(self, features, label):\n",
        "        with tf.GradientTape() as tape:\n",
        "            pred = self(features)\n",
        "            loss = self.loss_obj(label, pred)\n",
        "        \n",
        "        grads = tape.gradient(loss, self.trainable_variables)\n",
        "        self.optimizer.apply_gradients(zip(grads, self.trainable_variables))\n",
        "\n",
        "        self.train_loss(loss)\n",
        "        self.train_accuracy(label, pred)\n",
        "    \n",
        "    @tf.function\n",
        "    def test_step(self, features, label):\n",
        "        pred = self(features)        \n",
        "        loss = self.loss_obj(label, pred)\n",
        "        \n",
        "        self.test_loss(loss)\n",
        "        self.test_accuracy(label, pred)\n",
        "        \n",
        "    def fit(self, x_train, y_train, x_test, y_test, epochs=5):\n",
        "        train_ds = tf.data.Dataset.from_tensor_slices((x_train, y_train)).shuffle(1000).batch(10)\n",
        "        test_ds = tf.data.Dataset.from_tensor_slices((x_test, y_test)).batch(10)\n",
        "        \n",
        "        for epoch in range(epochs):\n",
        "            for features, label in train_ds:\n",
        "                self.train_step(features, label)\n",
        "                \n",
        "            train_loss = self.train_loss.result()\n",
        "            train_acc =self.train_accuracy.result()\n",
        "            \n",
        "            trl.append(train_loss)\n",
        "            tra.append(train_acc)\n",
        "            \n",
        "            for features, label in test_ds:\n",
        "                self.test_step(features, label)\n",
        "                \n",
        "            test_loss = self.test_loss.result()\n",
        "            test_acc = self.test_accuracy.result()\n",
        "            \n",
        "            tsl.append(test_loss)\n",
        "            tsa.append(test_acc)\n",
        "            \n",
        "            template = 'Epoch {}, Loss: {}, Accuracy: {}, Test Loss: {}, Test Accuracy: {}'\n",
        "            \n",
        "            if epoch%50 == 0 or epoch == epochs-1:\n",
        "                print(template.format(epoch,\n",
        "                                  train_loss,\n",
        "                                  train_acc * 100,\n",
        "                                  test_loss,\n",
        "                                  test_acc * 100))"
      ],
      "execution_count": 0,
      "outputs": []
    },
    {
      "cell_type": "code",
      "metadata": {
        "id": "1KJz0s4-hVXb",
        "colab_type": "code",
        "colab": {}
      },
      "source": [
        "model = IRISModel()"
      ],
      "execution_count": 0,
      "outputs": []
    },
    {
      "cell_type": "code",
      "metadata": {
        "id": "5HNyupVdp_WY",
        "colab_type": "code",
        "colab": {}
      },
      "source": [
        "model.compile(optimizer=tf.keras.optimizers.Adam(),\n",
        "              loss='categorical_crossentropy',\n",
        "              metrics=['accuracy'])"
      ],
      "execution_count": 0,
      "outputs": []
    },
    {
      "cell_type": "markdown",
      "metadata": {
        "id": "kCMGmeQaPOtj",
        "colab_type": "text"
      },
      "source": [
        "# Assessment"
      ]
    },
    {
      "cell_type": "code",
      "metadata": {
        "id": "dpjVVz59hbE_",
        "colab_type": "code",
        "outputId": "41192b4f-e553-4207-9cde-ae13fde7918a",
        "colab": {
          "base_uri": "https://localhost:8080/",
          "height": 104
        }
      },
      "source": [
        "model.fit(train_features, train_labels, test_features, test_labels, epochs=200)"
      ],
      "execution_count": 15,
      "outputs": [
        {
          "output_type": "stream",
          "text": [
            "Epoch 0, Loss: 1.3861390352249146, Accuracy: 30.000001907348633, Test Loss: 1.0887333154678345, Test Accuracy: 46.66666793823242\n",
            "Epoch 50, Loss: 0.49384790658950806, Accuracy: 82.04248809814453, Test Loss: 0.535492479801178, Test Accuracy: 76.86274719238281\n",
            "Epoch 100, Loss: 0.32307881116867065, Accuracy: 90.06600189208984, Test Loss: 0.3480156362056732, Test Accuracy: 86.66666412353516\n",
            "Epoch 150, Loss: 0.24367351830005646, Accuracy: 92.80353546142578, Test Loss: 0.2606874704360962, Test Accuracy: 89.9779281616211\n",
            "Epoch 199, Loss: 0.20050384104251862, Accuracy: 94.36249542236328, Test Loss: 0.21338902413845062, Test Accuracy: 91.61666870117188\n"
          ],
          "name": "stdout"
        }
      ]
    },
    {
      "cell_type": "code",
      "metadata": {
        "id": "3jGXtIxsrQgG",
        "colab_type": "code",
        "outputId": "62aa2382-52f4-4269-ab43-1399844b2a21",
        "colab": {
          "base_uri": "https://localhost:8080/",
          "height": 500
        }
      },
      "source": [
        "plt.figure(figsize=(12, 8))\n",
        "plt.plot(list(range(200)), [t.numpy() for t in trl], 'r--', label='Train loss')\n",
        "plt.plot(list(range(200)), [t.numpy() for t in tra], 'r', label='Train accuracy')\n",
        "plt.plot(list(range(200)), [t.numpy() for t in tsl], 'b--', label='Test loss')\n",
        "plt.plot(list(range(200)), [t.numpy() for t in tsa], 'b', label='Test accuracy')\n",
        "plt.xlabel('Epochs')\n",
        "plt.legend()\n",
        "plt.show()\n"
      ],
      "execution_count": 16,
      "outputs": [
        {
          "output_type": "display_data",
          "data": {
            "image/png": "[encoded data removed]",
            "text/plain": [
              "<Figure size 864x576 with 1 Axes>"
            ]
          },
          "metadata": {
            "tags": []
          }
        }
      ]
    }
  ]
}